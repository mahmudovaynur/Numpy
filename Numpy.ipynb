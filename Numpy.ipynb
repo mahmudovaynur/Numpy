{
 "cells": [
  {
   "cell_type": "markdown",
   "metadata": {},
   "source": [
    "## Numpy"
   ]
  },
  {
   "cell_type": "markdown",
   "metadata": {},
   "source": [
    "#### Neden İhtiyacımız Var?\n",
    "\n",
    "Pythonda hazır olarak sunulmuş olan liste yapısından daha efektif olarak çalışır; hem daha hızlı çalışır hem de daha az bellek gereksinimi vardır. Veri analizi işlemlerindeki matematiksel hesaplamalar için kullanılıyor."
   ]
  },
  {
   "cell_type": "markdown",
   "metadata": {},
   "source": [
    "### Numpy Array'i Nasıl Tanımlanır?\n",
    "\n",
    "1. Direkt liste tanımlar gibi tanımlayabiliriz.\n",
    "2. zeros() fonksiyonu ile tüm elemanları 0 olan dizi tanımlayabiliriz. \n",
    "3. ones() fonksiyonu ile tüm elemanları 1 olan dizi tanımlayabiliriz.\n",
    "4. full() fonksiyonu ile tüm elemanları aynı olan dizi tanımlayabiliriz.\n",
    "5. arange() fonksiyonu ile belirli aralıkta, sabit artış ile dizi tanımlayabiliriz.\n",
    "6. linspace() fonksiyonu ile belirli aralıkta, eleman sayısına göre sabit bir artış ile dizi tanımlayabiliriz.\n",
    "7. randint() fonksiyonu ile belirli aralıkta rastgele eleman üreterek dizi tanımlayabiliriz."
   ]
  },
  {
   "cell_type": "code",
   "execution_count": 1,
   "metadata": {},
   "outputs": [
    {
     "name": "stdout",
     "output_type": "stream",
     "text": [
      "<class 'numpy.ndarray'>\n",
      "[1 2 3 4 5]\n"
     ]
    }
   ],
   "source": [
    "import numpy as np\n",
    "\n",
    "npArrayList=np.array([1,2,3,4,5])\n",
    "print(type(npArrayList))\n",
    "print(npArrayList)"
   ]
  },
  {
   "cell_type": "code",
   "execution_count": 6,
   "metadata": {},
   "outputs": [
    {
     "name": "stdout",
     "output_type": "stream",
     "text": [
      "<class 'numpy.ndarray'>\n",
      "[0 0 0 0 0]\n"
     ]
    }
   ],
   "source": [
    "npZeroArray=np.zeros(5,dtype=\"int\")\n",
    "print(type(npZeroArray))\n",
    "print(npZeroArray)"
   ]
  },
  {
   "cell_type": "code",
   "execution_count": 8,
   "metadata": {},
   "outputs": [
    {
     "name": "stdout",
     "output_type": "stream",
     "text": [
      "<class 'numpy.ndarray'>\n",
      "[[0 0 0 0 0]\n",
      " [0 0 0 0 0]\n",
      " [0 0 0 0 0]\n",
      " [0 0 0 0 0]\n",
      " [0 0 0 0 0]]\n"
     ]
    }
   ],
   "source": [
    "npZeroArray2D=np.zeros((5,5),dtype=\"int\")\n",
    "print(type(npZeroArray2D))\n",
    "print(npZeroArray2D)"
   ]
  },
  {
   "cell_type": "code",
   "execution_count": 9,
   "metadata": {},
   "outputs": [
    {
     "name": "stdout",
     "output_type": "stream",
     "text": [
      "<class 'numpy.ndarray'>\n",
      "[1 1 1 1 1]\n"
     ]
    }
   ],
   "source": [
    "npOnesArray=np.ones(5,dtype=\"int\")\n",
    "print(type(npOnesArray))\n",
    "print(npOnesArray)"
   ]
  },
  {
   "cell_type": "code",
   "execution_count": 10,
   "metadata": {},
   "outputs": [
    {
     "name": "stdout",
     "output_type": "stream",
     "text": [
      "<class 'numpy.ndarray'>\n",
      "[[1 1 1 1 1]\n",
      " [1 1 1 1 1]\n",
      " [1 1 1 1 1]\n",
      " [1 1 1 1 1]\n",
      " [1 1 1 1 1]]\n"
     ]
    }
   ],
   "source": [
    "npOnesArray2D=np.ones((5,5),dtype=\"int\")\n",
    "print(type(npOnesArray2D))\n",
    "print(npOnesArray2D)"
   ]
  },
  {
   "cell_type": "code",
   "execution_count": 11,
   "metadata": {},
   "outputs": [
    {
     "name": "stdout",
     "output_type": "stream",
     "text": [
      "<class 'numpy.ndarray'>\n",
      "[[5 5 5 5 5]\n",
      " [5 5 5 5 5]\n",
      " [5 5 5 5 5]\n",
      " [5 5 5 5 5]\n",
      " [5 5 5 5 5]]\n"
     ]
    }
   ],
   "source": [
    "npFullArray=np.full((5,5),5)\n",
    "print(type(npFullArray))\n",
    "print(npFullArray)"
   ]
  },
  {
   "cell_type": "code",
   "execution_count": 14,
   "metadata": {},
   "outputs": [
    {
     "name": "stdout",
     "output_type": "stream",
     "text": [
      "<class 'numpy.ndarray'>\n",
      "[ 0  5 10 15 20 25 30 35 40 45]\n"
     ]
    }
   ],
   "source": [
    "npArangeArray=np.arange(0,50,5)\n",
    "print(type(npArangeArray))\n",
    "print(npArangeArray)"
   ]
  },
  {
   "cell_type": "code",
   "execution_count": 15,
   "metadata": {},
   "outputs": [
    {
     "name": "stdout",
     "output_type": "stream",
     "text": [
      "<class 'numpy.ndarray'>\n",
      "[ 0.          5.55555556 11.11111111 16.66666667 22.22222222 27.77777778\n",
      " 33.33333333 38.88888889 44.44444444 50.        ]\n"
     ]
    }
   ],
   "source": [
    "npLinSpaceArray=np.linspace(0,50,10)\n",
    "print(type(npLinSpaceArray))\n",
    "print(npLinSpaceArray)"
   ]
  },
  {
   "cell_type": "code",
   "execution_count": 19,
   "metadata": {},
   "outputs": [
    {
     "name": "stdout",
     "output_type": "stream",
     "text": [
      "<class 'numpy.ndarray'>\n",
      "[[26 45 49  5 15]\n",
      " [46  2 45  6 31]\n",
      " [46 29 34 28 48]\n",
      " [44  6 30  1 46]\n",
      " [36 34 22 34 37]]\n"
     ]
    }
   ],
   "source": [
    "npRandomArray=np.random.randint(0,50,(5,5))\n",
    "print(type(npRandomArray))\n",
    "print(npRandomArray)"
   ]
  },
  {
   "cell_type": "markdown",
   "metadata": {},
   "source": [
    "### Numpy Array Bilgileri\n",
    "1. dtype: Arraydeki elemanların veri tipi\n",
    "2. size: Arraydeki toplam eleman sayısı\n",
    "3. ndim: Arrayin boyut sayısı\n",
    "4. shape: Arrayin satır-sütun biilgisi"
   ]
  },
  {
   "cell_type": "code",
   "execution_count": 31,
   "metadata": {},
   "outputs": [
    {
     "name": "stdout",
     "output_type": "stream",
     "text": [
      "[1 2 3 4 5]\n",
      "int32\n",
      "5\n",
      "1\n",
      "(5,)\n"
     ]
    }
   ],
   "source": [
    "npArray=np.array([1,2,3,4,5])\n",
    "print(npArray)\n",
    "print(npArray.dtype)\n",
    "print(npArray.size)\n",
    "print(npArray.ndim)\n",
    "print(npArray.shape)"
   ]
  },
  {
   "cell_type": "code",
   "execution_count": 37,
   "metadata": {},
   "outputs": [
    {
     "name": "stdout",
     "output_type": "stream",
     "text": [
      "[[14  9 49  0  0]\n",
      " [33 12 23 11 42]\n",
      " [37 12 43 23 13]\n",
      " [48 25 46  4 12]\n",
      " [36 38 43 45 36]]\n",
      "int32\n",
      "25\n",
      "2\n",
      "(5, 5)\n"
     ]
    }
   ],
   "source": [
    "npArray2D=np.random.randint(0,50,(5,5))\n",
    "print(npArray2D)\n",
    "print(npArray2D.dtype)\n",
    "print(npArray2D.size)\n",
    "print(npArray2D.ndim)\n",
    "print(npArray2D.shape)"
   ]
  },
  {
   "cell_type": "markdown",
   "metadata": {},
   "source": [
    "### Array Elemanlarına Erişmek\n",
    "\n",
    "1. Index yardımıyla elemanlara erişmek\n",
    "2. Parçalama yardımıyla eleman alt kümelerine erişmek"
   ]
  },
  {
   "cell_type": "markdown",
   "metadata": {},
   "source": [
    "##### Index Yardımıyla Elemanlara Erişmek"
   ]
  },
  {
   "cell_type": "code",
   "execution_count": 40,
   "metadata": {},
   "outputs": [
    {
     "data": {
      "text/plain": [
       "array([1, 2, 3, 4, 5])"
      ]
     },
     "execution_count": 40,
     "metadata": {},
     "output_type": "execute_result"
    }
   ],
   "source": [
    "npArray"
   ]
  },
  {
   "cell_type": "code",
   "execution_count": 43,
   "metadata": {},
   "outputs": [
    {
     "data": {
      "text/plain": [
       "1"
      ]
     },
     "execution_count": 43,
     "metadata": {},
     "output_type": "execute_result"
    }
   ],
   "source": [
    "npArray[0]"
   ]
  },
  {
   "cell_type": "code",
   "execution_count": 48,
   "metadata": {},
   "outputs": [
    {
     "data": {
      "text/plain": [
       "5"
      ]
     },
     "execution_count": 48,
     "metadata": {},
     "output_type": "execute_result"
    }
   ],
   "source": [
    "npArray[-1]"
   ]
  },
  {
   "cell_type": "code",
   "execution_count": 49,
   "metadata": {},
   "outputs": [
    {
     "data": {
      "text/plain": [
       "array([0, 2, 3, 4, 5])"
      ]
     },
     "execution_count": 49,
     "metadata": {},
     "output_type": "execute_result"
    }
   ],
   "source": [
    "npArray[0]=0\n",
    "npArray"
   ]
  },
  {
   "cell_type": "code",
   "execution_count": 50,
   "metadata": {},
   "outputs": [
    {
     "data": {
      "text/plain": [
       "array([[14,  9, 49,  0,  0],\n",
       "       [33, 12, 23, 11, 42],\n",
       "       [37, 12, 43, 23, 13],\n",
       "       [48, 25, 46,  4, 12],\n",
       "       [36, 38, 43, 45, 36]])"
      ]
     },
     "execution_count": 50,
     "metadata": {},
     "output_type": "execute_result"
    }
   ],
   "source": [
    "npArray2D"
   ]
  },
  {
   "cell_type": "code",
   "execution_count": 59,
   "metadata": {},
   "outputs": [
    {
     "data": {
      "text/plain": [
       "14"
      ]
     },
     "execution_count": 59,
     "metadata": {},
     "output_type": "execute_result"
    }
   ],
   "source": [
    "npArray2D[0][0]"
   ]
  },
  {
   "cell_type": "code",
   "execution_count": 60,
   "metadata": {},
   "outputs": [],
   "source": [
    "npArray2D[4][3]=43"
   ]
  },
  {
   "cell_type": "code",
   "execution_count": 61,
   "metadata": {},
   "outputs": [
    {
     "data": {
      "text/plain": [
       "array([[14,  9, 49,  0,  0],\n",
       "       [33, 12, 23, 11, 42],\n",
       "       [37, 12, 43, 23, 13],\n",
       "       [48, 25, 46,  4, 12],\n",
       "       [36, 38, 43, 43, 36]])"
      ]
     },
     "execution_count": 61,
     "metadata": {},
     "output_type": "execute_result"
    }
   ],
   "source": [
    "npArray2D"
   ]
  },
  {
   "cell_type": "markdown",
   "metadata": {},
   "source": [
    "##### Parçalama yardımıyla eleman alt kümelerine erişmek\n",
    "\n",
    "array_ismi[baslangic_indeks:bitis_indeks:indeks_artis_miktari]"
   ]
  },
  {
   "cell_type": "code",
   "execution_count": 62,
   "metadata": {},
   "outputs": [
    {
     "data": {
      "text/plain": [
       "array([ 0,  1,  2,  3,  4,  5,  6,  7,  8,  9, 10, 11, 12, 13, 14, 15, 16,\n",
       "       17, 18, 19, 20, 21, 22, 23, 24, 25, 26, 27, 28, 29, 30, 31, 32, 33,\n",
       "       34, 35, 36, 37, 38, 39, 40, 41, 42, 43, 44, 45, 46, 47, 48, 49])"
      ]
     },
     "execution_count": 62,
     "metadata": {},
     "output_type": "execute_result"
    }
   ],
   "source": [
    "nparray=np.arange(0,50)\n",
    "nparray"
   ]
  },
  {
   "cell_type": "code",
   "execution_count": 66,
   "metadata": {},
   "outputs": [
    {
     "data": {
      "text/plain": [
       "array([ 0,  1,  2,  3,  4,  5,  6,  7,  8,  9, 10, 11, 12, 13, 14, 15, 16,\n",
       "       17, 18, 19, 20, 21, 22, 23, 24, 25, 26, 27, 28, 29, 30, 31, 32, 33,\n",
       "       34, 35, 36, 37, 38, 39, 40, 41, 42, 43, 44, 45, 46, 47, 48, 49])"
      ]
     },
     "execution_count": 66,
     "metadata": {},
     "output_type": "execute_result"
    }
   ],
   "source": [
    "nparray[::]"
   ]
  },
  {
   "cell_type": "code",
   "execution_count": 67,
   "metadata": {},
   "outputs": [
    {
     "data": {
      "text/plain": [
       "array([ 0,  5, 10, 15, 20, 25, 30, 35, 40, 45])"
      ]
     },
     "execution_count": 67,
     "metadata": {},
     "output_type": "execute_result"
    }
   ],
   "source": [
    "nparray[::5]"
   ]
  },
  {
   "cell_type": "code",
   "execution_count": 68,
   "metadata": {},
   "outputs": [
    {
     "data": {
      "text/plain": [
       "array([ 0,  5, 10])"
      ]
     },
     "execution_count": 68,
     "metadata": {},
     "output_type": "execute_result"
    }
   ],
   "source": [
    "nparray[:15:5]"
   ]
  },
  {
   "cell_type": "code",
   "execution_count": 69,
   "metadata": {},
   "outputs": [
    {
     "data": {
      "text/plain": [
       "array([15, 20, 25, 30, 35, 40, 45])"
      ]
     },
     "execution_count": 69,
     "metadata": {},
     "output_type": "execute_result"
    }
   ],
   "source": [
    "nparray[15::5]"
   ]
  },
  {
   "cell_type": "code",
   "execution_count": 70,
   "metadata": {},
   "outputs": [
    {
     "data": {
      "text/plain": [
       "array([[14,  9, 49,  0,  0],\n",
       "       [33, 12, 23, 11, 42],\n",
       "       [37, 12, 43, 23, 13],\n",
       "       [48, 25, 46,  4, 12],\n",
       "       [36, 38, 43, 43, 36]])"
      ]
     },
     "execution_count": 70,
     "metadata": {},
     "output_type": "execute_result"
    }
   ],
   "source": [
    "npArray2D"
   ]
  },
  {
   "cell_type": "code",
   "execution_count": 71,
   "metadata": {},
   "outputs": [
    {
     "data": {
      "text/plain": [
       "array([[14,  9, 49,  0,  0],\n",
       "       [37, 12, 43, 23, 13],\n",
       "       [36, 38, 43, 43, 36]])"
      ]
     },
     "execution_count": 71,
     "metadata": {},
     "output_type": "execute_result"
    }
   ],
   "source": [
    "npArray2D[0::2,::]"
   ]
  },
  {
   "cell_type": "code",
   "execution_count": 72,
   "metadata": {},
   "outputs": [
    {
     "data": {
      "text/plain": [
       "array([[14, 49,  0],\n",
       "       [33, 23, 42],\n",
       "       [37, 43, 13],\n",
       "       [48, 46, 12],\n",
       "       [36, 43, 36]])"
      ]
     },
     "execution_count": 72,
     "metadata": {},
     "output_type": "execute_result"
    }
   ],
   "source": [
    "npArray2D[::,0::2]"
   ]
  },
  {
   "cell_type": "code",
   "execution_count": 73,
   "metadata": {},
   "outputs": [
    {
     "data": {
      "text/plain": [
       "array([[12, 11],\n",
       "       [25,  4]])"
      ]
     },
     "execution_count": 73,
     "metadata": {},
     "output_type": "execute_result"
    }
   ],
   "source": [
    "npArray2D[1::2,1::2]"
   ]
  },
  {
   "cell_type": "markdown",
   "metadata": {},
   "source": [
    "npArray2D[satir_baslangic_indeks:satir_bitis_indeks:satir_indeks_artis,sutun_baslangic_indeks:sutun_bitis_indeks:sutun_indeks_artis]"
   ]
  },
  {
   "cell_type": "markdown",
   "metadata": {},
   "source": [
    "### Hazır Fonksiyonlar\n",
    "1. reshape(): Numpy Array'i yeniden boyutlandırmak için kullanılır.\n",
    "2. concatenate(): Numpy Arrayleri birleştirmek için kullanılır.\n",
    "3. split(): Numpy Array'i bölmek-ayırmak için kullanılır.\n",
    "4. sort(): Numpy Array'i sıralamak için kullanılır."
   ]
  },
  {
   "cell_type": "code",
   "execution_count": 120,
   "metadata": {},
   "outputs": [
    {
     "data": {
      "text/plain": [
       "array([1, 2, 3, 4, 5, 6, 7, 8, 9])"
      ]
     },
     "execution_count": 120,
     "metadata": {},
     "output_type": "execute_result"
    }
   ],
   "source": [
    "nparray=np.arange(1,10)\n",
    "nparray"
   ]
  },
  {
   "cell_type": "code",
   "execution_count": 122,
   "metadata": {},
   "outputs": [
    {
     "data": {
      "text/plain": [
       "array([[1, 2, 3],\n",
       "       [4, 5, 6],\n",
       "       [7, 8, 9]])"
      ]
     },
     "execution_count": 122,
     "metadata": {},
     "output_type": "execute_result"
    }
   ],
   "source": [
    "nparray2D=nparray.reshape((3,3))\n",
    "nparray2D"
   ]
  },
  {
   "cell_type": "code",
   "execution_count": 125,
   "metadata": {},
   "outputs": [
    {
     "name": "stdout",
     "output_type": "stream",
     "text": [
      "[0 1 2 3 4 5 6 7 8 9]\n",
      "[10 11 12 13 14 15 16 17 18 19]\n",
      "[ 0  1  2  3  4  5  6  7  8  9 10 11 12 13 14 15 16 17 18 19]\n"
     ]
    }
   ],
   "source": [
    "a=np.arange(0,10)\n",
    "b=np.arange(10,20)\n",
    "c=np.concatenate([a,b])\n",
    "print(a)\n",
    "print(b)\n",
    "print(c)"
   ]
  },
  {
   "cell_type": "code",
   "execution_count": 132,
   "metadata": {},
   "outputs": [
    {
     "name": "stdout",
     "output_type": "stream",
     "text": [
      "[[ 1  2  3  4  5]\n",
      " [ 1  2  3  4  5]\n",
      " [ 6  7  8  9 10]\n",
      " [ 6  7  8  9 10]]\n",
      "[[ 1  2  3  4  5  6  7  8  9 10]\n",
      " [ 1  2  3  4  5  6  7  8  9 10]]\n"
     ]
    }
   ],
   "source": [
    "a=np.array([[1,2,3,4,5],[1,2,3,4,5]])\n",
    "b=np.array([[6,7,8,9,10],[6,7,8,9,10]])\n",
    "c=np.concatenate([a,b])#default axis=0, alt alta ekleme yapar.\n",
    "d=np.concatenate([a,b],axis=1)#axis=1 yan yana ekleme yapar\n",
    "print(c)\n",
    "print(d)"
   ]
  },
  {
   "cell_type": "code",
   "execution_count": 134,
   "metadata": {},
   "outputs": [
    {
     "name": "stdout",
     "output_type": "stream",
     "text": [
      "[1 2 3]\n",
      "[4 5 6]\n",
      "[7 8 9]\n"
     ]
    }
   ],
   "source": [
    "nparray=np.arange(1,10)\n",
    "a,b,c=np.split(nparray,3)\n",
    "print(a)\n",
    "print(b)\n",
    "print(c)"
   ]
  },
  {
   "cell_type": "code",
   "execution_count": 140,
   "metadata": {},
   "outputs": [
    {
     "data": {
      "text/plain": [
       "array([[13, 31,  8, 31],\n",
       "       [11, 26, 41, 44],\n",
       "       [25, 43, 42, 41],\n",
       "       [11,  1, 17, 38]])"
      ]
     },
     "execution_count": 140,
     "metadata": {},
     "output_type": "execute_result"
    }
   ],
   "source": [
    "npArray2D=np.random.randint(0,50,(4,4))\n",
    "npArray2D"
   ]
  },
  {
   "cell_type": "code",
   "execution_count": 145,
   "metadata": {},
   "outputs": [
    {
     "name": "stdout",
     "output_type": "stream",
     "text": [
      "[[13 31  8 31]\n",
      " [11 26 41 44]\n",
      " [25 43 42 41]]\n",
      "[[11  1 17 38]]\n"
     ]
    }
   ],
   "source": [
    "a,b=np.vsplit(npArray2D,[3])\n",
    "print(a)\n",
    "print(b)"
   ]
  },
  {
   "cell_type": "code",
   "execution_count": 148,
   "metadata": {},
   "outputs": [
    {
     "name": "stdout",
     "output_type": "stream",
     "text": [
      "[[13 31  8]\n",
      " [11 26 41]\n",
      " [25 43 42]\n",
      " [11  1 17]]\n",
      "[[31]\n",
      " [44]\n",
      " [41]\n",
      " [38]]\n"
     ]
    }
   ],
   "source": [
    "c,d=np.hsplit(npArray2D,[3])\n",
    "print(c)\n",
    "print(d)"
   ]
  },
  {
   "cell_type": "code",
   "execution_count": 151,
   "metadata": {},
   "outputs": [
    {
     "name": "stdout",
     "output_type": "stream",
     "text": [
      "[[39 32 46 15 25 19 12 13 29 26]]\n",
      "[[12 13 15 19 25 26 29 32 39 46]]\n"
     ]
    }
   ],
   "source": [
    "randomarray=np.random.randint(0,50,(1,10))\n",
    "print(randomarray)\n",
    "sortedArray=np.sort(randomarray)\n",
    "print(sortedArray)"
   ]
  },
  {
   "cell_type": "code",
   "execution_count": 159,
   "metadata": {},
   "outputs": [
    {
     "name": "stdout",
     "output_type": "stream",
     "text": [
      "[[27  1 43  2 13 28  1 31 27  9]\n",
      " [13 15 48 28 28 24 32 34 31 35]\n",
      " [49  9  5 41 44 16 45 34 28 31]\n",
      " [ 0 17 43 28  1  3 13  1 45 10]\n",
      " [49 35  4 26 32 22  7  7 16 41]]\n"
     ]
    }
   ],
   "source": [
    "randomArray2D=np.random.randint(0,50,(5,10))\n",
    "print(randomArray2D)\n",
    "sortedArray2D=np.sort(randomArray2D,axis=0)#axis=0 ise sütuna göre sırala\n",
    "sortedArray2DEkstra=np.sort(randomArray2D)#default axis=1 ise satıra göre sırala"
   ]
  },
  {
   "cell_type": "code",
   "execution_count": 157,
   "metadata": {},
   "outputs": [
    {
     "name": "stdout",
     "output_type": "stream",
     "text": [
      "[[ 1  2 10 17  8  3  4  9 11  7]\n",
      " [ 7  7 27 19 17 26  6 10 14  7]\n",
      " [19 32 43 21 25 29 22 13 35 19]\n",
      " [30 40 46 29 36 38 30 44 42 45]\n",
      " [41 45 48 31 40 49 40 46 47 48]]\n"
     ]
    }
   ],
   "source": [
    "print(sortedArray2D)"
   ]
  },
  {
   "cell_type": "code",
   "execution_count": 160,
   "metadata": {},
   "outputs": [
    {
     "name": "stdout",
     "output_type": "stream",
     "text": [
      "[[ 1  1  2  9 13 27 27 28 31 43]\n",
      " [13 15 24 28 28 31 32 34 35 48]\n",
      " [ 5  9 16 28 31 34 41 44 45 49]\n",
      " [ 0  1  1  3 10 13 17 28 43 45]\n",
      " [ 4  7  7 16 22 26 32 35 41 49]]\n"
     ]
    }
   ],
   "source": [
    "print(sortedArray2DEkstra)"
   ]
  },
  {
   "cell_type": "markdown",
   "metadata": {},
   "source": [
    "### Matematiksel Fonksiyonlar\n",
    "\n",
    "1. add(): Tüm elemanlar üzerinde ekleme işlemi yapabildiğimiz fonksiyon.\n",
    "2. subtract(): Tüm elemanlar üzerinde çıkarma işlemi yapabildiğimiz fonksiyon.\n",
    "3. multiply(): Tüm elemanlar üzerinde çarpma işlemi yapabildiğimiz fonksiyon.\n",
    "4. divide(): Tüm elemanlar üzerinde bölme işlemi yapabildiğimiz fonksiyon.\n",
    "5. power(): Tüm elemanlar üzerinde üs alma işlemi yapabildiğimiz fonksiyon.\n",
    "6. mod(): Tüm elemanlar üzerinde mod alma işlemi yapabildiğimiz fonksiyon.\n",
    "7. mean(): Ortalama hesaplama işlemi yapabildiğimiz fonksiyon.\n",
    "8. sum(): Toplama işlemi yapabildiğimiz fonksiyon.\n",
    "9. min(): En küçük elemanı bulabildiğimiz fonksiyon.\n",
    "10. max(): En büyük elemanı bulabildiğimiz fonksiyon."
   ]
  },
  {
   "cell_type": "code",
   "execution_count": 2,
   "metadata": {},
   "outputs": [
    {
     "data": {
      "text/plain": [
       "array([1, 2, 3, 4, 5, 6, 7, 8, 9])"
      ]
     },
     "execution_count": 2,
     "metadata": {},
     "output_type": "execute_result"
    }
   ],
   "source": [
    "nparray=np.arange(1,10)\n",
    "nparray"
   ]
  },
  {
   "cell_type": "code",
   "execution_count": 3,
   "metadata": {},
   "outputs": [
    {
     "data": {
      "text/plain": [
       "array([ 6,  7,  8,  9, 10, 11, 12, 13, 14])"
      ]
     },
     "execution_count": 3,
     "metadata": {},
     "output_type": "execute_result"
    }
   ],
   "source": [
    "npArrayAdd=np.add(nparray,5)\n",
    "npArrayAdd"
   ]
  },
  {
   "cell_type": "code",
   "execution_count": 4,
   "metadata": {},
   "outputs": [
    {
     "data": {
      "text/plain": [
       "array([-1,  0,  1,  2,  3,  4,  5,  6,  7])"
      ]
     },
     "execution_count": 4,
     "metadata": {},
     "output_type": "execute_result"
    }
   ],
   "source": [
    "npArraySubtract=np.subtract(nparray,2)\n",
    "npArraySubtract"
   ]
  },
  {
   "cell_type": "code",
   "execution_count": 6,
   "metadata": {},
   "outputs": [
    {
     "data": {
      "text/plain": [
       "array([ 3,  6,  9, 12, 15, 18, 21, 24, 27])"
      ]
     },
     "execution_count": 6,
     "metadata": {},
     "output_type": "execute_result"
    }
   ],
   "source": [
    "npArrayMultiply=np.multiply(nparray,3)\n",
    "npArrayMultiply"
   ]
  },
  {
   "cell_type": "code",
   "execution_count": 7,
   "metadata": {},
   "outputs": [
    {
     "data": {
      "text/plain": [
       "array([0.2, 0.4, 0.6, 0.8, 1. , 1.2, 1.4, 1.6, 1.8])"
      ]
     },
     "execution_count": 7,
     "metadata": {},
     "output_type": "execute_result"
    }
   ],
   "source": [
    "npArrayDivide=np.divide(nparray,5)\n",
    "npArrayDivide"
   ]
  },
  {
   "cell_type": "code",
   "execution_count": 8,
   "metadata": {},
   "outputs": [
    {
     "data": {
      "text/plain": [
       "array([ 1,  4,  9, 16, 25, 36, 49, 64, 81], dtype=int32)"
      ]
     },
     "execution_count": 8,
     "metadata": {},
     "output_type": "execute_result"
    }
   ],
   "source": [
    "npArrayPower=np.power(nparray,2)\n",
    "npArrayPower"
   ]
  },
  {
   "cell_type": "code",
   "execution_count": 10,
   "metadata": {},
   "outputs": [
    {
     "data": {
      "text/plain": [
       "array([1, 0, 1, 0, 1, 0, 1, 0, 1], dtype=int32)"
      ]
     },
     "execution_count": 10,
     "metadata": {},
     "output_type": "execute_result"
    }
   ],
   "source": [
    "npArrayMod=np.mod(nparray,2)\n",
    "npArrayMod"
   ]
  },
  {
   "cell_type": "code",
   "execution_count": 11,
   "metadata": {},
   "outputs": [
    {
     "data": {
      "text/plain": [
       "5.0"
      ]
     },
     "execution_count": 11,
     "metadata": {},
     "output_type": "execute_result"
    }
   ],
   "source": [
    "nparray.mean()"
   ]
  },
  {
   "cell_type": "code",
   "execution_count": 12,
   "metadata": {},
   "outputs": [
    {
     "data": {
      "text/plain": [
       "9"
      ]
     },
     "execution_count": 12,
     "metadata": {},
     "output_type": "execute_result"
    }
   ],
   "source": [
    "nparray.max()"
   ]
  },
  {
   "cell_type": "code",
   "execution_count": 13,
   "metadata": {},
   "outputs": [
    {
     "data": {
      "text/plain": [
       "1"
      ]
     },
     "execution_count": 13,
     "metadata": {},
     "output_type": "execute_result"
    }
   ],
   "source": [
    "nparray.min()"
   ]
  },
  {
   "cell_type": "code",
   "execution_count": 14,
   "metadata": {},
   "outputs": [
    {
     "data": {
      "text/plain": [
       "45"
      ]
     },
     "execution_count": 14,
     "metadata": {},
     "output_type": "execute_result"
    }
   ],
   "source": [
    "nparray.sum()"
   ]
  },
  {
   "cell_type": "markdown",
   "metadata": {},
   "source": [
    "### Operatörlerin Array ile Kullanımı"
   ]
  },
  {
   "cell_type": "code",
   "execution_count": 20,
   "metadata": {},
   "outputs": [
    {
     "data": {
      "text/plain": [
       "array([1, 2, 3, 4, 5, 6, 7, 8, 9])"
      ]
     },
     "execution_count": 20,
     "metadata": {},
     "output_type": "execute_result"
    }
   ],
   "source": [
    "nparray=np.arange(1,10)\n",
    "nparray"
   ]
  },
  {
   "cell_type": "code",
   "execution_count": 24,
   "metadata": {},
   "outputs": [
    {
     "data": {
      "text/plain": [
       "array([11, 12, 13, 14, 15, 16, 17, 18, 19])"
      ]
     },
     "execution_count": 24,
     "metadata": {},
     "output_type": "execute_result"
    }
   ],
   "source": [
    "nparray=nparray+5\n",
    "nparray"
   ]
  },
  {
   "cell_type": "code",
   "execution_count": 27,
   "metadata": {},
   "outputs": [
    {
     "data": {
      "text/plain": [
       "array([1, 2, 3, 4, 5, 6, 7, 8, 9])"
      ]
     },
     "execution_count": 27,
     "metadata": {},
     "output_type": "execute_result"
    }
   ],
   "source": [
    "nparray=nparray-5\n",
    "nparray"
   ]
  },
  {
   "cell_type": "code",
   "execution_count": 28,
   "metadata": {},
   "outputs": [
    {
     "data": {
      "text/plain": [
       "array([ 2,  4,  6,  8, 10, 12, 14, 16, 18])"
      ]
     },
     "execution_count": 28,
     "metadata": {},
     "output_type": "execute_result"
    }
   ],
   "source": [
    "nparray*2"
   ]
  },
  {
   "cell_type": "code",
   "execution_count": 29,
   "metadata": {},
   "outputs": [
    {
     "data": {
      "text/plain": [
       "array([0.5, 1. , 1.5, 2. , 2.5, 3. , 3.5, 4. , 4.5])"
      ]
     },
     "execution_count": 29,
     "metadata": {},
     "output_type": "execute_result"
    }
   ],
   "source": [
    "nparray/2"
   ]
  },
  {
   "cell_type": "code",
   "execution_count": 30,
   "metadata": {},
   "outputs": [
    {
     "data": {
      "text/plain": [
       "array([0, 1, 1, 2, 2, 3, 3, 4, 4], dtype=int32)"
      ]
     },
     "execution_count": 30,
     "metadata": {},
     "output_type": "execute_result"
    }
   ],
   "source": [
    "nparray//2"
   ]
  },
  {
   "cell_type": "code",
   "execution_count": 31,
   "metadata": {},
   "outputs": [
    {
     "data": {
      "text/plain": [
       "array([ 1,  4,  9, 16, 25, 36, 49, 64, 81], dtype=int32)"
      ]
     },
     "execution_count": 31,
     "metadata": {},
     "output_type": "execute_result"
    }
   ],
   "source": [
    "nparray**2"
   ]
  },
  {
   "cell_type": "code",
   "execution_count": 32,
   "metadata": {},
   "outputs": [
    {
     "data": {
      "text/plain": [
       "array([1, 0, 1, 0, 1, 0, 1, 0, 1], dtype=int32)"
      ]
     },
     "execution_count": 32,
     "metadata": {},
     "output_type": "execute_result"
    }
   ],
   "source": [
    "nparray%2"
   ]
  },
  {
   "cell_type": "code",
   "execution_count": 33,
   "metadata": {},
   "outputs": [
    {
     "data": {
      "text/plain": [
       "array([6, 7, 8, 9])"
      ]
     },
     "execution_count": 33,
     "metadata": {},
     "output_type": "execute_result"
    }
   ],
   "source": [
    "nparray[nparray>5]"
   ]
  },
  {
   "cell_type": "code",
   "execution_count": 34,
   "metadata": {},
   "outputs": [
    {
     "data": {
      "text/plain": [
       "array([1, 2, 3, 4])"
      ]
     },
     "execution_count": 34,
     "metadata": {},
     "output_type": "execute_result"
    }
   ],
   "source": [
    "nparray[nparray<5]"
   ]
  },
  {
   "cell_type": "code",
   "execution_count": 35,
   "metadata": {},
   "outputs": [
    {
     "data": {
      "text/plain": [
       "array([5])"
      ]
     },
     "execution_count": 35,
     "metadata": {},
     "output_type": "execute_result"
    }
   ],
   "source": [
    "nparray[nparray==5]"
   ]
  }
 ],
 "metadata": {
  "kernelspec": {
   "display_name": "Python 3 (ipykernel)",
   "language": "python",
   "name": "python3"
  },
  "language_info": {
   "codemirror_mode": {
    "name": "ipython",
    "version": 3
   },
   "file_extension": ".py",
   "mimetype": "text/x-python",
   "name": "python",
   "nbconvert_exporter": "python",
   "pygments_lexer": "ipython3",
   "version": "3.9.12"
  }
 },
 "nbformat": 4,
 "nbformat_minor": 4
}
